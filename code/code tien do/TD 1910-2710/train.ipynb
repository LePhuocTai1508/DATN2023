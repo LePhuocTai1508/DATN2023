{
 "cells": [
  {
   "cell_type": "code",
   "execution_count": 66,
   "metadata": {
    "ExecuteTime": {
     "end_time": "2023-10-26T18:21:54.601815800Z",
     "start_time": "2023-10-26T18:21:54.577841200Z"
    }
   },
   "outputs": [],
   "source": [
    "import numpy as np\n",
    "import pandas as pd\n",
    "from matplotlib import pyplot as plt\n",
    "\n",
    "import keras\n",
    "from keras.models import Model,Sequential\n",
    "from keras.utils import to_categorical\n",
    "from keras.layers import LSTM, Dense, BatchNormalization, Dropout\n",
    "from keras import regularizers\n",
    "from keras.optimizers import SGD\n",
    "from clr_callback import *\n",
    "\n",
    "%matplotlib inline\n"
   ]
  },
  {
   "cell_type": "code",
   "execution_count": 2,
   "metadata": {
    "ExecuteTime": {
     "end_time": "2023-10-26T17:21:50.782539100Z",
     "start_time": "2023-10-26T17:21:50.762593200Z"
    }
   },
   "outputs": [],
   "source": [
    "# Useful Constants\n",
    "\n",
    "# Output classes to learn how to classify\n",
    "LABELS = [    \n",
    "    \"JUMPING\",\n",
    "    \"JUMPING_JACKS\",\n",
    "    \"BOXING\",\n",
    "    \"WAVING_2HANDS\",\n",
    "    \"WAVING_1HAND\",\n",
    "    \"CLAPPING_HANDS\"\n",
    "\n",
    "] \n",
    "DATASET_PATH = \"data/\"\n",
    "\n",
    "x_train_path = DATASET_PATH + \"X_train.csv\"\n",
    "x_test_path = DATASET_PATH + \"X_test.csv\"\n",
    "y_train_path = DATASET_PATH + \"Y_train.csv\"\n",
    "y_test_path = DATASET_PATH + \"Y_test.csv\"\n",
    "\n",
    "\n",
    "n_steps = 32    # 32 frames per series"
   ]
  },
  {
   "cell_type": "code",
   "execution_count": 6,
   "metadata": {
    "ExecuteTime": {
     "end_time": "2023-10-26T17:24:04.809221Z",
     "start_time": "2023-10-26T17:24:04.796261100Z"
    }
   },
   "outputs": [],
   "source": [
    "def load_X(path):\n",
    "    data=pd.read_csv(path,header=None).values\n",
    "    blocks = int(len(data) / n_steps)\n",
    "    data=np.array(np.split(data,blocks))\n",
    "    return data\n",
    "\n",
    "def load_y(path):\n",
    "    data=pd.read_csv(path,header=None).values\n",
    "    return data-1"
   ]
  },
  {
   "cell_type": "code",
   "execution_count": 8,
   "metadata": {
    "ExecuteTime": {
     "end_time": "2023-10-26T17:25:14.821297400Z",
     "start_time": "2023-10-26T17:25:11.358483600Z"
    }
   },
   "outputs": [],
   "source": [
    "#Load the data\n",
    "X_train = load_X(x_train_path)\n",
    "X_test = load_X(x_test_path)\n",
    "y_train = load_y(y_train_path)\n",
    "y_test = load_y(y_test_path)"
   ]
  },
  {
   "cell_type": "code",
   "execution_count": 9,
   "metadata": {
    "ExecuteTime": {
     "end_time": "2023-10-26T17:25:16.811578100Z",
     "start_time": "2023-10-26T17:25:16.786406900Z"
    }
   },
   "outputs": [],
   "source": [
    "# Input Data \n",
    "training_data_count = len(X_train)  # 4519 training series (with 50% overlap between each serie)\n",
    "test_data_count = len(X_test)  # 1197 test series\n",
    "n_input = len(X_train[0][0])\n",
    "n_hidden = 36 # Hidden layer num of features\n",
    "n_classes = 6  #number of action classes\n",
    "\n",
    "batch_size = 256\n"
   ]
  },
  {
   "cell_type": "code",
   "execution_count": 10,
   "metadata": {
    "ExecuteTime": {
     "end_time": "2023-10-26T17:25:18.588058500Z",
     "start_time": "2023-10-26T17:25:18.574819100Z"
    }
   },
   "outputs": [],
   "source": [
    "y_train_one_hot = to_categorical(y_train, num_classes=6)\n",
    "y_test_one_hot = to_categorical(y_test, 6)\n",
    "\n",
    "train_size = X_train.shape[0] - X_train.shape[0] % batch_size\n",
    "test_size = X_test.shape[0] - X_test.shape[0] % batch_size"
   ]
  },
  {
   "cell_type": "code",
   "execution_count": 98,
   "metadata": {
    "ExecuteTime": {
     "end_time": "2023-10-26T18:43:08.693652100Z",
     "start_time": "2023-10-26T18:43:08.671973800Z"
    }
   },
   "outputs": [],
   "source": [
    "model = Sequential([\n",
    "   # relu activation\n",
    "   Dense(n_hidden, activation='relu'\n",
    "   ),\n",
    "   BatchNormalization(), \n",
    "   LSTM(n_hidden, return_sequences=True,  unit_forget_bias=1.0,dropout=0.2),\n",
    "   LSTM(n_hidden,  unit_forget_bias=1.0),\n",
    "   BatchNormalization(), \n",
    "   Dense(n_classes,\n",
    "       activation='softmax'\n",
    "   )\n",
    "])"
   ]
  },
  {
   "cell_type": "markdown",
   "metadata": {},
   "source": [
    "**Perform the LR range test** to find the min and max range of learning rates"
   ]
  },
  {
   "cell_type": "code",
   "execution_count": 118,
   "metadata": {
    "ExecuteTime": {
     "end_time": "2023-10-26T18:50:46.865900700Z",
     "start_time": "2023-10-26T18:50:46.840818500Z"
    }
   },
   "outputs": [],
   "source": [
    "#LR range test \n",
    "clr = CyclicLR(base_lr=0.0001, max_lr=1, step_size=np.ceil(X_train.shape[0] / batch_size), mode='triangular')"
   ]
  },
  {
   "cell_type": "code",
   "execution_count": 119,
   "metadata": {
    "ExecuteTime": {
     "end_time": "2023-10-26T18:50:48.073179400Z",
     "start_time": "2023-10-26T18:50:48.047218800Z"
    }
   },
   "outputs": [],
   "source": [
    "model.compile(\n",
    "   optimizer=SGD(),\n",
    "   metrics=['accuracy'],\n",
    "   loss='categorical_crossentropy'\n",
    ")"
   ]
  },
  {
   "cell_type": "code",
   "execution_count": 120,
   "metadata": {
    "ExecuteTime": {
     "end_time": "2023-10-26T18:50:59.200556200Z",
     "start_time": "2023-10-26T18:50:49.026258200Z"
    }
   },
   "outputs": [
    {
     "name": "stdout",
     "output_type": "stream",
     "text": [
      "88/88 [==============================] - 10s 74ms/step - loss: 0.5033 - accuracy: 0.8125 - val_loss: 0.6433 - val_accuracy: 0.7578\n"
     ]
    }
   ],
   "source": [
    "history = model.fit(\n",
    "   X_train[:train_size,:,:], \n",
    "   y_train_one_hot[:train_size,:], \n",
    "   epochs=1,\n",
    "   batch_size=batch_size,\n",
    "   validation_data=(X_test[:test_size,:,:], y_test_one_hot[:test_size,:])\n",
    ")"
   ]
  },
  {
   "cell_type": "code",
   "execution_count": 116,
   "metadata": {
    "ExecuteTime": {
     "end_time": "2023-10-26T18:50:22.006386200Z",
     "start_time": "2023-10-26T18:50:21.983324100Z"
    }
   },
   "outputs": [],
   "source": [
    "history=clr.history"
   ]
  },
  {
   "cell_type": "code",
   "execution_count": 117,
   "metadata": {
    "ExecuteTime": {
     "end_time": "2023-10-26T18:50:23.332236100Z",
     "start_time": "2023-10-26T18:50:23.306378500Z"
    }
   },
   "outputs": [
    {
     "ename": "KeyError",
     "evalue": "'lr'",
     "output_type": "error",
     "traceback": [
      "\u001B[1;31m---------------------------------------------------------------------------\u001B[0m",
      "\u001B[1;31mKeyError\u001B[0m                                  Traceback (most recent call last)",
      "Cell \u001B[1;32mIn[117], line 1\u001B[0m\n\u001B[1;32m----> 1\u001B[0m plt\u001B[38;5;241m.\u001B[39mplot(\u001B[43mhistory\u001B[49m\u001B[43m[\u001B[49m\u001B[38;5;124;43m'\u001B[39;49m\u001B[38;5;124;43mlr\u001B[39;49m\u001B[38;5;124;43m'\u001B[39;49m\u001B[43m]\u001B[49m,history[\u001B[38;5;124m'\u001B[39m\u001B[38;5;124macc\u001B[39m\u001B[38;5;124m'\u001B[39m])\n\u001B[0;32m      2\u001B[0m plt\u001B[38;5;241m.\u001B[39mtitle(\u001B[38;5;124m'\u001B[39m\u001B[38;5;124mAccuracy plot against accuracy\u001B[39m\u001B[38;5;124m'\u001B[39m)\n\u001B[0;32m      3\u001B[0m plt\u001B[38;5;241m.\u001B[39mxscale(\u001B[38;5;124m'\u001B[39m\u001B[38;5;124mlog\u001B[39m\u001B[38;5;124m'\u001B[39m)\n",
      "\u001B[1;31mKeyError\u001B[0m: 'lr'"
     ]
    }
   ],
   "source": [
    "plt.plot(history['lr'],history['acc'])\n",
    "plt.title('Accuracy plot against accuracy')\n",
    "plt.xscale('log')\n",
    "plt.xticks\n",
    "plt.ylabel('acc')\n",
    "plt.xlabel('learning_rate')\n",
    "plt.legend(['lr'])\n",
    "plt.show()"
   ]
  },
  {
   "cell_type": "code",
   "execution_count": 24,
   "metadata": {
    "ExecuteTime": {
     "end_time": "2023-10-26T17:33:14.489368900Z",
     "start_time": "2023-10-26T17:33:14.460334400Z"
    }
   },
   "outputs": [
    {
     "ename": "KeyError",
     "evalue": "'lr'",
     "output_type": "error",
     "traceback": [
      "\u001B[1;31m---------------------------------------------------------------------------\u001B[0m",
      "\u001B[1;31mKeyError\u001B[0m                                  Traceback (most recent call last)",
      "Cell \u001B[1;32mIn[24], line 1\u001B[0m\n\u001B[1;32m----> 1\u001B[0m plt\u001B[38;5;241m.\u001B[39mplot(\u001B[43mhistory\u001B[49m\u001B[43m[\u001B[49m\u001B[38;5;124;43m'\u001B[39;49m\u001B[38;5;124;43mlr\u001B[39;49m\u001B[38;5;124;43m'\u001B[39;49m\u001B[43m]\u001B[49m,history[\u001B[38;5;124m'\u001B[39m\u001B[38;5;124mloss\u001B[39m\u001B[38;5;124m'\u001B[39m])\n\u001B[0;32m      2\u001B[0m plt\u001B[38;5;241m.\u001B[39mtitle(\u001B[38;5;124m'\u001B[39m\u001B[38;5;124mLearning rate plot against loss\u001B[39m\u001B[38;5;124m'\u001B[39m)\n\u001B[0;32m      3\u001B[0m plt\u001B[38;5;241m.\u001B[39mxscale(\u001B[38;5;124m'\u001B[39m\u001B[38;5;124mlog\u001B[39m\u001B[38;5;124m'\u001B[39m)\n",
      "\u001B[1;31mKeyError\u001B[0m: 'lr'"
     ]
    }
   ],
   "source": [
    "plt.plot(history['lr'],history['loss'])\n",
    "plt.title('Learning rate plot against loss')\n",
    "plt.xscale('log')\n",
    "plt.ylabel('loss')\n",
    "plt.xlabel('learning_rate')\n",
    "#plt.legend(['lr'])\n",
    "plt.show()"
   ]
  },
  {
   "cell_type": "markdown",
   "metadata": {},
   "source": [
    "By looking at the graph, the model starts converging when lr=0.02, so it is reasonable to set base lr = 0.02. Furthermore, above a learning rate of 0.09 the accuracy rise gets rough and eventually begins to drop so it is reasonable to set max lr = 0.09"
   ]
  },
  {
   "cell_type": "code",
   "execution_count": 25,
   "metadata": {
    "ExecuteTime": {
     "end_time": "2023-10-26T17:33:18.501967500Z",
     "start_time": "2023-10-26T17:33:18.477523Z"
    }
   },
   "outputs": [],
   "source": [
    "clr = CyclicLR(base_lr=0.02, max_lr=0.09, step_size=np.ceil(X_train.shape[0]/(batch_size)), mode='triangular')"
   ]
  },
  {
   "cell_type": "code",
   "execution_count": 123,
   "metadata": {
    "ExecuteTime": {
     "end_time": "2023-10-26T18:51:27.921804700Z",
     "start_time": "2023-10-26T18:51:27.728804Z"
    }
   },
   "outputs": [
    {
     "ename": "NameError",
     "evalue": "name 'K' is not defined",
     "output_type": "error",
     "traceback": [
      "\u001B[1;31m---------------------------------------------------------------------------\u001B[0m",
      "\u001B[1;31mNameError\u001B[0m                                 Traceback (most recent call last)",
      "Cell \u001B[1;32mIn[123], line 1\u001B[0m\n\u001B[1;32m----> 1\u001B[0m history \u001B[38;5;241m=\u001B[39m \u001B[43mmodel\u001B[49m\u001B[38;5;241;43m.\u001B[39;49m\u001B[43mfit\u001B[49m\u001B[43m(\u001B[49m\n\u001B[0;32m      2\u001B[0m \u001B[43m   \u001B[49m\u001B[43mX_train\u001B[49m\u001B[43m[\u001B[49m\u001B[43m:\u001B[49m\u001B[43mtrain_size\u001B[49m\u001B[43m,\u001B[49m\u001B[43m:\u001B[49m\u001B[43m,\u001B[49m\u001B[43m:\u001B[49m\u001B[43m]\u001B[49m\u001B[43m,\u001B[49m\u001B[43m \u001B[49m\n\u001B[0;32m      3\u001B[0m \u001B[43m   \u001B[49m\u001B[43my_train_one_hot\u001B[49m\u001B[43m[\u001B[49m\u001B[43m:\u001B[49m\u001B[43mtrain_size\u001B[49m\u001B[43m,\u001B[49m\u001B[43m:\u001B[49m\u001B[43m]\u001B[49m\u001B[43m,\u001B[49m\u001B[43m \u001B[49m\n\u001B[0;32m      4\u001B[0m \u001B[43m   \u001B[49m\u001B[43mepochs\u001B[49m\u001B[38;5;241;43m=\u001B[39;49m\u001B[38;5;241;43m20\u001B[39;49m\u001B[43m,\u001B[49m\n\u001B[0;32m      5\u001B[0m \u001B[43m   \u001B[49m\u001B[43mbatch_size\u001B[49m\u001B[38;5;241;43m=\u001B[39;49m\u001B[43mbatch_size\u001B[49m\u001B[43m,\u001B[49m\n\u001B[0;32m      6\u001B[0m \u001B[43m   \u001B[49m\u001B[43mcallbacks\u001B[49m\u001B[38;5;241;43m=\u001B[39;49m\u001B[43m[\u001B[49m\u001B[43mclr\u001B[49m\u001B[43m]\u001B[49m\u001B[43m,\u001B[49m\n\u001B[0;32m      7\u001B[0m \u001B[43m   \u001B[49m\u001B[43mvalidation_data\u001B[49m\u001B[38;5;241;43m=\u001B[39;49m\u001B[43m(\u001B[49m\u001B[43mX_test\u001B[49m\u001B[43m[\u001B[49m\u001B[43m:\u001B[49m\u001B[43mtest_size\u001B[49m\u001B[43m,\u001B[49m\u001B[43m:\u001B[49m\u001B[43m,\u001B[49m\u001B[43m:\u001B[49m\u001B[43m]\u001B[49m\u001B[43m,\u001B[49m\u001B[43m \u001B[49m\u001B[43my_test_one_hot\u001B[49m\u001B[43m[\u001B[49m\u001B[43m:\u001B[49m\u001B[43mtest_size\u001B[49m\u001B[43m,\u001B[49m\u001B[43m:\u001B[49m\u001B[43m]\u001B[49m\u001B[43m)\u001B[49m\u001B[43m \u001B[49m\n\u001B[0;32m      8\u001B[0m \u001B[43m)\u001B[49m\n",
      "File \u001B[1;32m~\\AppData\\Local\\Programs\\Python\\Python311\\Lib\\site-packages\\keras\\src\\utils\\traceback_utils.py:70\u001B[0m, in \u001B[0;36mfilter_traceback.<locals>.error_handler\u001B[1;34m(*args, **kwargs)\u001B[0m\n\u001B[0;32m     67\u001B[0m     filtered_tb \u001B[38;5;241m=\u001B[39m _process_traceback_frames(e\u001B[38;5;241m.\u001B[39m__traceback__)\n\u001B[0;32m     68\u001B[0m     \u001B[38;5;66;03m# To get the full stack trace, call:\u001B[39;00m\n\u001B[0;32m     69\u001B[0m     \u001B[38;5;66;03m# `tf.debugging.disable_traceback_filtering()`\u001B[39;00m\n\u001B[1;32m---> 70\u001B[0m     \u001B[38;5;28;01mraise\u001B[39;00m e\u001B[38;5;241m.\u001B[39mwith_traceback(filtered_tb) \u001B[38;5;28;01mfrom\u001B[39;00m \u001B[38;5;28;01mNone\u001B[39;00m\n\u001B[0;32m     71\u001B[0m \u001B[38;5;28;01mfinally\u001B[39;00m:\n\u001B[0;32m     72\u001B[0m     \u001B[38;5;28;01mdel\u001B[39;00m filtered_tb\n",
      "File \u001B[1;32mT:\\DATN23\\Human-Activity-Recognition\\clr_callback.py:115\u001B[0m, in \u001B[0;36mCyclicLR.on_train_begin\u001B[1;34m(self, logs)\u001B[0m\n\u001B[0;32m    112\u001B[0m logs \u001B[38;5;241m=\u001B[39m logs \u001B[38;5;129;01mor\u001B[39;00m {}\n\u001B[0;32m    114\u001B[0m \u001B[38;5;28;01mif\u001B[39;00m \u001B[38;5;28mself\u001B[39m\u001B[38;5;241m.\u001B[39mclr_iterations \u001B[38;5;241m==\u001B[39m \u001B[38;5;241m0\u001B[39m:\n\u001B[1;32m--> 115\u001B[0m     \u001B[43mK\u001B[49m\u001B[38;5;241m.\u001B[39mset_value(\u001B[38;5;28mself\u001B[39m\u001B[38;5;241m.\u001B[39mmodel\u001B[38;5;241m.\u001B[39moptimizer\u001B[38;5;241m.\u001B[39mlr, \u001B[38;5;28mself\u001B[39m\u001B[38;5;241m.\u001B[39mbase_lr)\n\u001B[0;32m    116\u001B[0m \u001B[38;5;28;01melse\u001B[39;00m:\n\u001B[0;32m    117\u001B[0m     K\u001B[38;5;241m.\u001B[39mset_value(\u001B[38;5;28mself\u001B[39m\u001B[38;5;241m.\u001B[39mmodel\u001B[38;5;241m.\u001B[39moptimizer\u001B[38;5;241m.\u001B[39mlr, \u001B[38;5;28mself\u001B[39m\u001B[38;5;241m.\u001B[39mclr())\n",
      "\u001B[1;31mNameError\u001B[0m: name 'K' is not defined"
     ]
    }
   ],
   "source": [
    "history = model.fit(\n",
    "   X_train[:train_size,:,:], \n",
    "   y_train_one_hot[:train_size,:], \n",
    "   epochs=20,\n",
    "   batch_size=batch_size,\n",
    "   callbacks=[clr],\n",
    "   validation_data=(X_test[:test_size,:,:], y_test_one_hot[:test_size,:]) \n",
    ")"
   ]
  },
  {
   "cell_type": "code",
   "execution_count": 122,
   "metadata": {
    "ExecuteTime": {
     "end_time": "2023-10-26T18:51:19.517376800Z",
     "start_time": "2023-10-26T18:51:19.488470500Z"
    }
   },
   "outputs": [],
   "source": [
    "# Save the model\n",
    "model.save('models/sample.h5')"
   ]
  },
  {
   "cell_type": "code",
   "execution_count": null,
   "metadata": {},
   "outputs": [],
   "source": []
  }
 ],
 "metadata": {
  "kernelspec": {
   "display_name": "Python 3",
   "language": "python",
   "name": "python3"
  },
  "language_info": {
   "codemirror_mode": {
    "name": "ipython",
    "version": 3
   },
   "file_extension": ".py",
   "mimetype": "text/x-python",
   "name": "python",
   "nbconvert_exporter": "python",
   "pygments_lexer": "ipython3",
   "version": "3.5.2"
  }
 },
 "nbformat": 4,
 "nbformat_minor": 2
}
